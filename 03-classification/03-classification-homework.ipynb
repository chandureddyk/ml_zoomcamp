{
 "cells": [
  {
   "cell_type": "markdown",
   "id": "7aed3b07",
   "metadata": {},
   "source": [
    "# ML Zoomcamp - Assignment : 3. Machine Learning for Classification"
   ]
  },
  {
   "cell_type": "markdown",
   "id": "07a2c4b6",
   "metadata": {},
   "source": [
    "# Importing Python packages"
   ]
  },
  {
   "cell_type": "code",
   "execution_count": 1,
   "id": "76c98e45",
   "metadata": {},
   "outputs": [],
   "source": [
    "import os\n",
    "import sys\n",
    "import wget               # to retrieve data from web server\n",
    "\n",
    "#import libraries\n",
    "import numpy as np\n",
    "import pandas as pd\n",
    "\n",
    "import seaborn as sns\n",
    "from matplotlib import pyplot as plt\n",
    "%matplotlib inline"
   ]
  },
  {
   "cell_type": "markdown",
   "id": "6bcfa33c",
   "metadata": {},
   "source": [
    "## 3.1 Getting Data Set - New York City Airbnb Open Data"
   ]
  },
  {
   "cell_type": "code",
   "execution_count": 2,
   "id": "ee17eb29",
   "metadata": {},
   "outputs": [],
   "source": [
    "# Data file paths \n",
    "DATA_FILE_LOCAL_PATH = \"./AB_NYC_2019.csv\"\n",
    "DATA_FILE_DOWNLOAD_URL = \"https://raw.githubusercontent.com/alexeygrigorev/datasets/master/AB_NYC_2019.csv\""
   ]
  },
  {
   "cell_type": "code",
   "execution_count": 3,
   "id": "798844e4",
   "metadata": {},
   "outputs": [],
   "source": [
    "# get current platfrom info\n",
    "def get_platform():\n",
    "    platforms = {\n",
    "        'linux1' : 'Linux',\n",
    "        'linux2' : 'Linux',\n",
    "        'darwin' : 'OS X',\n",
    "        'win32' : 'Windows'\n",
    "    }\n",
    "    if sys.platform not in platforms:\n",
    "        return sys.platform\n",
    "    \n",
    "    return platforms[sys.platform]"
   ]
  },
  {
   "cell_type": "code",
   "execution_count": 4,
   "id": "5ec55a33",
   "metadata": {},
   "outputs": [],
   "source": [
    "def download_data_set(download_url, local_file):\n",
    "    os_in_use  = get_platform()\n",
    "    if os_in_use == 'Windows':\n",
    "        if os.path.isfile(DATA_FILE_LOCAL_PATH):\n",
    "            print(\"Data file: {} , exists locally. skipping download\".format(DATA_FILE_LOCAL_PATH) )\n",
    "        else:\n",
    "            print(\"Data file: {} , doesn't exists locally.\".format(DATA_FILE_LOCAL_PATH ))\n",
    "            print(\"Downloading from location: {} \" .format( DATA_FILE_DOWNLOAD_URL))\n",
    "            wget.download(DATA_FILE_DOWNLOAD_URL, DATA_FILE_LOCAL_PATH)\n",
    "            print(\"\\nDownload Complete\")\n",
    "    else:\n",
    "        print(\"non windows platfrom testing not done\")\n",
    "    return"
   ]
  },
  {
   "cell_type": "code",
   "execution_count": 5,
   "id": "3dc1dccc",
   "metadata": {},
   "outputs": [
    {
     "name": "stdout",
     "output_type": "stream",
     "text": [
      "Data file: ./AB_NYC_2019.csv , exists locally. skipping download\n"
     ]
    }
   ],
   "source": [
    "download_data_set(DATA_FILE_DOWNLOAD_URL, DATA_FILE_LOCAL_PATH)"
   ]
  },
  {
   "cell_type": "markdown",
   "id": "bfb2054a",
   "metadata": {},
   "source": [
    "## 3.2 Data Preparation"
   ]
  },
  {
   "cell_type": "markdown",
   "id": "f5067f43",
   "metadata": {},
   "source": [
    "Download the data, read it with pandas, Look at the data ,Make column names and values look uniform, Check if all the columns read correctly, Check if the any variable needs any preparation"
   ]
  },
  {
   "cell_type": "code",
   "execution_count": 6,
   "id": "600c3833",
   "metadata": {},
   "outputs": [
    {
     "data": {
      "text/plain": [
       "48895"
      ]
     },
     "execution_count": 6,
     "metadata": {},
     "output_type": "execute_result"
    }
   ],
   "source": [
    "df = pd.read_csv('AB_NYC_2019.csv')\n",
    "len(df)"
   ]
  },
  {
   "cell_type": "code",
   "execution_count": 7,
   "id": "80ef374d",
   "metadata": {},
   "outputs": [
    {
     "data": {
      "text/html": [
       "<div>\n",
       "<style scoped>\n",
       "    .dataframe tbody tr th:only-of-type {\n",
       "        vertical-align: middle;\n",
       "    }\n",
       "\n",
       "    .dataframe tbody tr th {\n",
       "        vertical-align: top;\n",
       "    }\n",
       "\n",
       "    .dataframe thead th {\n",
       "        text-align: right;\n",
       "    }\n",
       "</style>\n",
       "<table border=\"1\" class=\"dataframe\">\n",
       "  <thead>\n",
       "    <tr style=\"text-align: right;\">\n",
       "      <th></th>\n",
       "      <th>id</th>\n",
       "      <th>name</th>\n",
       "      <th>host_id</th>\n",
       "      <th>host_name</th>\n",
       "      <th>neighbourhood_group</th>\n",
       "      <th>neighbourhood</th>\n",
       "      <th>latitude</th>\n",
       "      <th>longitude</th>\n",
       "      <th>room_type</th>\n",
       "      <th>price</th>\n",
       "      <th>minimum_nights</th>\n",
       "      <th>number_of_reviews</th>\n",
       "      <th>last_review</th>\n",
       "      <th>reviews_per_month</th>\n",
       "      <th>calculated_host_listings_count</th>\n",
       "      <th>availability_365</th>\n",
       "    </tr>\n",
       "  </thead>\n",
       "  <tbody>\n",
       "    <tr>\n",
       "      <th>0</th>\n",
       "      <td>2539</td>\n",
       "      <td>Clean &amp; quiet apt home by the park</td>\n",
       "      <td>2787</td>\n",
       "      <td>John</td>\n",
       "      <td>Brooklyn</td>\n",
       "      <td>Kensington</td>\n",
       "      <td>40.64749</td>\n",
       "      <td>-73.97237</td>\n",
       "      <td>Private room</td>\n",
       "      <td>149</td>\n",
       "      <td>1</td>\n",
       "      <td>9</td>\n",
       "      <td>2018-10-19</td>\n",
       "      <td>0.21</td>\n",
       "      <td>6</td>\n",
       "      <td>365</td>\n",
       "    </tr>\n",
       "    <tr>\n",
       "      <th>1</th>\n",
       "      <td>2595</td>\n",
       "      <td>Skylit Midtown Castle</td>\n",
       "      <td>2845</td>\n",
       "      <td>Jennifer</td>\n",
       "      <td>Manhattan</td>\n",
       "      <td>Midtown</td>\n",
       "      <td>40.75362</td>\n",
       "      <td>-73.98377</td>\n",
       "      <td>Entire home/apt</td>\n",
       "      <td>225</td>\n",
       "      <td>1</td>\n",
       "      <td>45</td>\n",
       "      <td>2019-05-21</td>\n",
       "      <td>0.38</td>\n",
       "      <td>2</td>\n",
       "      <td>355</td>\n",
       "    </tr>\n",
       "    <tr>\n",
       "      <th>2</th>\n",
       "      <td>3647</td>\n",
       "      <td>THE VILLAGE OF HARLEM....NEW YORK !</td>\n",
       "      <td>4632</td>\n",
       "      <td>Elisabeth</td>\n",
       "      <td>Manhattan</td>\n",
       "      <td>Harlem</td>\n",
       "      <td>40.80902</td>\n",
       "      <td>-73.94190</td>\n",
       "      <td>Private room</td>\n",
       "      <td>150</td>\n",
       "      <td>3</td>\n",
       "      <td>0</td>\n",
       "      <td>NaN</td>\n",
       "      <td>NaN</td>\n",
       "      <td>1</td>\n",
       "      <td>365</td>\n",
       "    </tr>\n",
       "    <tr>\n",
       "      <th>3</th>\n",
       "      <td>3831</td>\n",
       "      <td>Cozy Entire Floor of Brownstone</td>\n",
       "      <td>4869</td>\n",
       "      <td>LisaRoxanne</td>\n",
       "      <td>Brooklyn</td>\n",
       "      <td>Clinton Hill</td>\n",
       "      <td>40.68514</td>\n",
       "      <td>-73.95976</td>\n",
       "      <td>Entire home/apt</td>\n",
       "      <td>89</td>\n",
       "      <td>1</td>\n",
       "      <td>270</td>\n",
       "      <td>2019-07-05</td>\n",
       "      <td>4.64</td>\n",
       "      <td>1</td>\n",
       "      <td>194</td>\n",
       "    </tr>\n",
       "    <tr>\n",
       "      <th>4</th>\n",
       "      <td>5022</td>\n",
       "      <td>Entire Apt: Spacious Studio/Loft by central park</td>\n",
       "      <td>7192</td>\n",
       "      <td>Laura</td>\n",
       "      <td>Manhattan</td>\n",
       "      <td>East Harlem</td>\n",
       "      <td>40.79851</td>\n",
       "      <td>-73.94399</td>\n",
       "      <td>Entire home/apt</td>\n",
       "      <td>80</td>\n",
       "      <td>10</td>\n",
       "      <td>9</td>\n",
       "      <td>2018-11-19</td>\n",
       "      <td>0.10</td>\n",
       "      <td>1</td>\n",
       "      <td>0</td>\n",
       "    </tr>\n",
       "  </tbody>\n",
       "</table>\n",
       "</div>"
      ],
      "text/plain": [
       "     id                                              name  host_id  \\\n",
       "0  2539                Clean & quiet apt home by the park     2787   \n",
       "1  2595                             Skylit Midtown Castle     2845   \n",
       "2  3647               THE VILLAGE OF HARLEM....NEW YORK !     4632   \n",
       "3  3831                   Cozy Entire Floor of Brownstone     4869   \n",
       "4  5022  Entire Apt: Spacious Studio/Loft by central park     7192   \n",
       "\n",
       "     host_name neighbourhood_group neighbourhood  latitude  longitude  \\\n",
       "0         John            Brooklyn    Kensington  40.64749  -73.97237   \n",
       "1     Jennifer           Manhattan       Midtown  40.75362  -73.98377   \n",
       "2    Elisabeth           Manhattan        Harlem  40.80902  -73.94190   \n",
       "3  LisaRoxanne            Brooklyn  Clinton Hill  40.68514  -73.95976   \n",
       "4        Laura           Manhattan   East Harlem  40.79851  -73.94399   \n",
       "\n",
       "         room_type  price  minimum_nights  number_of_reviews last_review  \\\n",
       "0     Private room    149               1                  9  2018-10-19   \n",
       "1  Entire home/apt    225               1                 45  2019-05-21   \n",
       "2     Private room    150               3                  0         NaN   \n",
       "3  Entire home/apt     89               1                270  2019-07-05   \n",
       "4  Entire home/apt     80              10                  9  2018-11-19   \n",
       "\n",
       "   reviews_per_month  calculated_host_listings_count  availability_365  \n",
       "0               0.21                               6               365  \n",
       "1               0.38                               2               355  \n",
       "2                NaN                               1               365  \n",
       "3               4.64                               1               194  \n",
       "4               0.10                               1                 0  "
      ]
     },
     "execution_count": 7,
     "metadata": {},
     "output_type": "execute_result"
    }
   ],
   "source": [
    "df.head()"
   ]
  },
  {
   "cell_type": "markdown",
   "id": "505f147a",
   "metadata": {},
   "source": [
    "### Filter only selective columns"
   ]
  },
  {
   "cell_type": "code",
   "execution_count": 8,
   "id": "b842b8ae",
   "metadata": {},
   "outputs": [],
   "source": [
    "col_categorical = [\n",
    "                'neighbourhood_group',\n",
    "                'room_type',\n",
    "              ]\n",
    "col_numerical = [ \n",
    "                'latitude',\n",
    "                'longitude',\n",
    "                'minimum_nights',\n",
    "                'number_of_reviews',\n",
    "                'reviews_per_month',\n",
    "                'calculated_host_listings_count',\n",
    "                'availability_365'\n",
    "              ]\n",
    "\n",
    "col_predict =  [ \n",
    "                'price',\n",
    "              ]"
   ]
  },
  {
   "cell_type": "code",
   "execution_count": 9,
   "id": "2066298d",
   "metadata": {},
   "outputs": [
    {
     "data": {
      "text/html": [
       "<div>\n",
       "<style scoped>\n",
       "    .dataframe tbody tr th:only-of-type {\n",
       "        vertical-align: middle;\n",
       "    }\n",
       "\n",
       "    .dataframe tbody tr th {\n",
       "        vertical-align: top;\n",
       "    }\n",
       "\n",
       "    .dataframe thead th {\n",
       "        text-align: right;\n",
       "    }\n",
       "</style>\n",
       "<table border=\"1\" class=\"dataframe\">\n",
       "  <thead>\n",
       "    <tr style=\"text-align: right;\">\n",
       "      <th></th>\n",
       "      <th>neighbourhood_group</th>\n",
       "      <th>room_type</th>\n",
       "      <th>latitude</th>\n",
       "      <th>longitude</th>\n",
       "      <th>minimum_nights</th>\n",
       "      <th>number_of_reviews</th>\n",
       "      <th>reviews_per_month</th>\n",
       "      <th>calculated_host_listings_count</th>\n",
       "      <th>availability_365</th>\n",
       "      <th>price</th>\n",
       "    </tr>\n",
       "  </thead>\n",
       "  <tbody>\n",
       "    <tr>\n",
       "      <th>0</th>\n",
       "      <td>Brooklyn</td>\n",
       "      <td>Private room</td>\n",
       "      <td>40.64749</td>\n",
       "      <td>-73.97237</td>\n",
       "      <td>1</td>\n",
       "      <td>9</td>\n",
       "      <td>0.21</td>\n",
       "      <td>6</td>\n",
       "      <td>365</td>\n",
       "      <td>149</td>\n",
       "    </tr>\n",
       "    <tr>\n",
       "      <th>1</th>\n",
       "      <td>Manhattan</td>\n",
       "      <td>Entire home/apt</td>\n",
       "      <td>40.75362</td>\n",
       "      <td>-73.98377</td>\n",
       "      <td>1</td>\n",
       "      <td>45</td>\n",
       "      <td>0.38</td>\n",
       "      <td>2</td>\n",
       "      <td>355</td>\n",
       "      <td>225</td>\n",
       "    </tr>\n",
       "    <tr>\n",
       "      <th>2</th>\n",
       "      <td>Manhattan</td>\n",
       "      <td>Private room</td>\n",
       "      <td>40.80902</td>\n",
       "      <td>-73.94190</td>\n",
       "      <td>3</td>\n",
       "      <td>0</td>\n",
       "      <td>NaN</td>\n",
       "      <td>1</td>\n",
       "      <td>365</td>\n",
       "      <td>150</td>\n",
       "    </tr>\n",
       "    <tr>\n",
       "      <th>3</th>\n",
       "      <td>Brooklyn</td>\n",
       "      <td>Entire home/apt</td>\n",
       "      <td>40.68514</td>\n",
       "      <td>-73.95976</td>\n",
       "      <td>1</td>\n",
       "      <td>270</td>\n",
       "      <td>4.64</td>\n",
       "      <td>1</td>\n",
       "      <td>194</td>\n",
       "      <td>89</td>\n",
       "    </tr>\n",
       "    <tr>\n",
       "      <th>4</th>\n",
       "      <td>Manhattan</td>\n",
       "      <td>Entire home/apt</td>\n",
       "      <td>40.79851</td>\n",
       "      <td>-73.94399</td>\n",
       "      <td>10</td>\n",
       "      <td>9</td>\n",
       "      <td>0.10</td>\n",
       "      <td>1</td>\n",
       "      <td>0</td>\n",
       "      <td>80</td>\n",
       "    </tr>\n",
       "  </tbody>\n",
       "</table>\n",
       "</div>"
      ],
      "text/plain": [
       "  neighbourhood_group        room_type  latitude  longitude  minimum_nights  \\\n",
       "0            Brooklyn     Private room  40.64749  -73.97237               1   \n",
       "1           Manhattan  Entire home/apt  40.75362  -73.98377               1   \n",
       "2           Manhattan     Private room  40.80902  -73.94190               3   \n",
       "3            Brooklyn  Entire home/apt  40.68514  -73.95976               1   \n",
       "4           Manhattan  Entire home/apt  40.79851  -73.94399              10   \n",
       "\n",
       "   number_of_reviews  reviews_per_month  calculated_host_listings_count  \\\n",
       "0                  9               0.21                               6   \n",
       "1                 45               0.38                               2   \n",
       "2                  0                NaN                               1   \n",
       "3                270               4.64                               1   \n",
       "4                  9               0.10                               1   \n",
       "\n",
       "   availability_365  price  \n",
       "0               365    149  \n",
       "1               355    225  \n",
       "2               365    150  \n",
       "3               194     89  \n",
       "4                 0     80  "
      ]
     },
     "execution_count": 9,
     "metadata": {},
     "output_type": "execute_result"
    }
   ],
   "source": [
    "df_selective = df.copy()\n",
    "df_selective = df_selective[col_categorical+col_numerical+col_predict]\n",
    "df_selective.head()"
   ]
  },
  {
   "cell_type": "markdown",
   "id": "397d600a",
   "metadata": {},
   "source": [
    "### Handle missing values"
   ]
  },
  {
   "cell_type": "code",
   "execution_count": 10,
   "id": "666bff00",
   "metadata": {},
   "outputs": [
    {
     "data": {
      "text/plain": [
       "neighbourhood_group                   0\n",
       "room_type                             0\n",
       "latitude                              0\n",
       "longitude                             0\n",
       "minimum_nights                        0\n",
       "number_of_reviews                     0\n",
       "reviews_per_month                 10052\n",
       "calculated_host_listings_count        0\n",
       "availability_365                      0\n",
       "price                                 0\n",
       "dtype: int64"
      ]
     },
     "execution_count": 10,
     "metadata": {},
     "output_type": "execute_result"
    }
   ],
   "source": [
    "df_selective.isna().sum()"
   ]
  },
  {
   "cell_type": "code",
   "execution_count": 11,
   "id": "b6c3a277",
   "metadata": {},
   "outputs": [],
   "source": [
    "df_selective['reviews_per_month'] = df_selective['reviews_per_month'].replace(np.nan, 0)"
   ]
  },
  {
   "cell_type": "markdown",
   "id": "2b5eb14f",
   "metadata": {},
   "source": [
    "### Question 1 - What is the most frequent observation (mode) for the column 'neighbourhood_group'?"
   ]
  },
  {
   "cell_type": "code",
   "execution_count": 12,
   "id": "977aa85b",
   "metadata": {},
   "outputs": [
    {
     "data": {
      "text/plain": [
       "0    Manhattan\n",
       "dtype: object"
      ]
     },
     "execution_count": 12,
     "metadata": {},
     "output_type": "execute_result"
    }
   ],
   "source": [
    "df_selective['neighbourhood_group'].mode()"
   ]
  },
  {
   "cell_type": "code",
   "execution_count": 13,
   "id": "258e6001",
   "metadata": {},
   "outputs": [
    {
     "data": {
      "text/plain": [
       "Manhattan        21661\n",
       "Brooklyn         20104\n",
       "Queens            5666\n",
       "Bronx             1091\n",
       "Staten Island      373\n",
       "Name: neighbourhood_group, dtype: int64"
      ]
     },
     "execution_count": 13,
     "metadata": {},
     "output_type": "execute_result"
    }
   ],
   "source": [
    "df_selective['neighbourhood_group'].value_counts(ascending=False)"
   ]
  },
  {
   "cell_type": "markdown",
   "id": "09be3fe8",
   "metadata": {},
   "source": [
    "### <font color='Blue'> Question 1 -> Answer : most frequent observation (mode) for the column 'neighbourhood_group' is = Manhattan </font>"
   ]
  },
  {
   "cell_type": "markdown",
   "id": "1e97e2e5",
   "metadata": {},
   "source": [
    "## 3.3 Setting up the data for train and validation "
   ]
  },
  {
   "cell_type": "markdown",
   "id": "9e39711c",
   "metadata": {},
   "source": [
    "Perform the train/validation/test split with Scikit-Learn"
   ]
  },
  {
   "cell_type": "code",
   "execution_count": 14,
   "id": "b2798bbc",
   "metadata": {},
   "outputs": [],
   "source": [
    "from sklearn.model_selection import train_test_split"
   ]
  },
  {
   "cell_type": "code",
   "execution_count": 15,
   "id": "471e266c",
   "metadata": {},
   "outputs": [],
   "source": [
    "df_full_train, df_test = train_test_split(df_selective, test_size=0.2, random_state=42)\n",
    "df_train, df_val = train_test_split(df_full_train, test_size=0.25, random_state=42)"
   ]
  },
  {
   "cell_type": "code",
   "execution_count": 16,
   "id": "cac001c3",
   "metadata": {},
   "outputs": [
    {
     "data": {
      "text/plain": [
       "(29337, 9779, 9779)"
      ]
     },
     "execution_count": 16,
     "metadata": {},
     "output_type": "execute_result"
    }
   ],
   "source": [
    "len(df_train), len(df_val), len(df_test)"
   ]
  },
  {
   "cell_type": "code",
   "execution_count": 17,
   "id": "bc668f04",
   "metadata": {},
   "outputs": [],
   "source": [
    "df_train = df_train.reset_index(drop=True)\n",
    "df_val = df_val.reset_index(drop=True)\n",
    "df_test = df_test.reset_index(drop=True)"
   ]
  },
  {
   "cell_type": "code",
   "execution_count": 18,
   "id": "79eae265",
   "metadata": {},
   "outputs": [],
   "source": [
    "y_train = df_train.price.values\n",
    "y_val = df_val.price.values\n",
    "y_test = df_test.price.values\n",
    "\n",
    "del df_train['price']\n",
    "del df_val['price']\n",
    "del df_test['price']"
   ]
  },
  {
   "cell_type": "code",
   "execution_count": 19,
   "id": "bb053625",
   "metadata": {},
   "outputs": [
    {
     "data": {
      "text/html": [
       "<div>\n",
       "<style scoped>\n",
       "    .dataframe tbody tr th:only-of-type {\n",
       "        vertical-align: middle;\n",
       "    }\n",
       "\n",
       "    .dataframe tbody tr th {\n",
       "        vertical-align: top;\n",
       "    }\n",
       "\n",
       "    .dataframe thead th {\n",
       "        text-align: right;\n",
       "    }\n",
       "</style>\n",
       "<table border=\"1\" class=\"dataframe\">\n",
       "  <thead>\n",
       "    <tr style=\"text-align: right;\">\n",
       "      <th></th>\n",
       "      <th>neighbourhood_group</th>\n",
       "      <th>room_type</th>\n",
       "      <th>latitude</th>\n",
       "      <th>longitude</th>\n",
       "      <th>minimum_nights</th>\n",
       "      <th>number_of_reviews</th>\n",
       "      <th>reviews_per_month</th>\n",
       "      <th>calculated_host_listings_count</th>\n",
       "      <th>availability_365</th>\n",
       "    </tr>\n",
       "  </thead>\n",
       "  <tbody>\n",
       "    <tr>\n",
       "      <th>0</th>\n",
       "      <td>Brooklyn</td>\n",
       "      <td>Entire home/apt</td>\n",
       "      <td>40.72760</td>\n",
       "      <td>-73.94495</td>\n",
       "      <td>3</td>\n",
       "      <td>29</td>\n",
       "      <td>0.70</td>\n",
       "      <td>13</td>\n",
       "      <td>50</td>\n",
       "    </tr>\n",
       "    <tr>\n",
       "      <th>1</th>\n",
       "      <td>Manhattan</td>\n",
       "      <td>Private room</td>\n",
       "      <td>40.70847</td>\n",
       "      <td>-74.00498</td>\n",
       "      <td>1</td>\n",
       "      <td>0</td>\n",
       "      <td>0.00</td>\n",
       "      <td>1</td>\n",
       "      <td>7</td>\n",
       "    </tr>\n",
       "    <tr>\n",
       "      <th>2</th>\n",
       "      <td>Bronx</td>\n",
       "      <td>Entire home/apt</td>\n",
       "      <td>40.83149</td>\n",
       "      <td>-73.92766</td>\n",
       "      <td>40</td>\n",
       "      <td>0</td>\n",
       "      <td>0.00</td>\n",
       "      <td>1</td>\n",
       "      <td>0</td>\n",
       "    </tr>\n",
       "    <tr>\n",
       "      <th>3</th>\n",
       "      <td>Brooklyn</td>\n",
       "      <td>Entire home/apt</td>\n",
       "      <td>40.66448</td>\n",
       "      <td>-73.99407</td>\n",
       "      <td>2</td>\n",
       "      <td>3</td>\n",
       "      <td>0.08</td>\n",
       "      <td>1</td>\n",
       "      <td>0</td>\n",
       "    </tr>\n",
       "    <tr>\n",
       "      <th>4</th>\n",
       "      <td>Manhattan</td>\n",
       "      <td>Private room</td>\n",
       "      <td>40.74118</td>\n",
       "      <td>-74.00012</td>\n",
       "      <td>1</td>\n",
       "      <td>48</td>\n",
       "      <td>1.80</td>\n",
       "      <td>2</td>\n",
       "      <td>67</td>\n",
       "    </tr>\n",
       "  </tbody>\n",
       "</table>\n",
       "</div>"
      ],
      "text/plain": [
       "  neighbourhood_group        room_type  latitude  longitude  minimum_nights  \\\n",
       "0            Brooklyn  Entire home/apt  40.72760  -73.94495               3   \n",
       "1           Manhattan     Private room  40.70847  -74.00498               1   \n",
       "2               Bronx  Entire home/apt  40.83149  -73.92766              40   \n",
       "3            Brooklyn  Entire home/apt  40.66448  -73.99407               2   \n",
       "4           Manhattan     Private room  40.74118  -74.00012               1   \n",
       "\n",
       "   number_of_reviews  reviews_per_month  calculated_host_listings_count  \\\n",
       "0                 29               0.70                              13   \n",
       "1                  0               0.00                               1   \n",
       "2                  0               0.00                               1   \n",
       "3                  3               0.08                               1   \n",
       "4                 48               1.80                               2   \n",
       "\n",
       "   availability_365  \n",
       "0                50  \n",
       "1                 7  \n",
       "2                 0  \n",
       "3                 0  \n",
       "4                67  "
      ]
     },
     "execution_count": 19,
     "metadata": {},
     "output_type": "execute_result"
    }
   ],
   "source": [
    "df_train.head()"
   ]
  },
  {
   "cell_type": "code",
   "execution_count": 20,
   "id": "c06b74c9",
   "metadata": {},
   "outputs": [
    {
     "data": {
      "text/html": [
       "<div>\n",
       "<style scoped>\n",
       "    .dataframe tbody tr th:only-of-type {\n",
       "        vertical-align: middle;\n",
       "    }\n",
       "\n",
       "    .dataframe tbody tr th {\n",
       "        vertical-align: top;\n",
       "    }\n",
       "\n",
       "    .dataframe thead th {\n",
       "        text-align: right;\n",
       "    }\n",
       "</style>\n",
       "<table border=\"1\" class=\"dataframe\">\n",
       "  <thead>\n",
       "    <tr style=\"text-align: right;\">\n",
       "      <th></th>\n",
       "      <th>neighbourhood_group</th>\n",
       "      <th>room_type</th>\n",
       "      <th>latitude</th>\n",
       "      <th>longitude</th>\n",
       "      <th>minimum_nights</th>\n",
       "      <th>number_of_reviews</th>\n",
       "      <th>reviews_per_month</th>\n",
       "      <th>calculated_host_listings_count</th>\n",
       "      <th>availability_365</th>\n",
       "    </tr>\n",
       "  </thead>\n",
       "  <tbody>\n",
       "    <tr>\n",
       "      <th>0</th>\n",
       "      <td>Brooklyn</td>\n",
       "      <td>Private room</td>\n",
       "      <td>40.70239</td>\n",
       "      <td>-73.92931</td>\n",
       "      <td>1</td>\n",
       "      <td>35</td>\n",
       "      <td>1.80</td>\n",
       "      <td>1</td>\n",
       "      <td>52</td>\n",
       "    </tr>\n",
       "    <tr>\n",
       "      <th>1</th>\n",
       "      <td>Brooklyn</td>\n",
       "      <td>Entire home/apt</td>\n",
       "      <td>40.68498</td>\n",
       "      <td>-73.96618</td>\n",
       "      <td>14</td>\n",
       "      <td>4</td>\n",
       "      <td>0.11</td>\n",
       "      <td>2</td>\n",
       "      <td>343</td>\n",
       "    </tr>\n",
       "    <tr>\n",
       "      <th>2</th>\n",
       "      <td>Brooklyn</td>\n",
       "      <td>Entire home/apt</td>\n",
       "      <td>40.66911</td>\n",
       "      <td>-73.94824</td>\n",
       "      <td>3</td>\n",
       "      <td>153</td>\n",
       "      <td>2.64</td>\n",
       "      <td>1</td>\n",
       "      <td>260</td>\n",
       "    </tr>\n",
       "    <tr>\n",
       "      <th>3</th>\n",
       "      <td>Manhattan</td>\n",
       "      <td>Private room</td>\n",
       "      <td>40.79767</td>\n",
       "      <td>-73.96114</td>\n",
       "      <td>3</td>\n",
       "      <td>2</td>\n",
       "      <td>0.02</td>\n",
       "      <td>3</td>\n",
       "      <td>0</td>\n",
       "    </tr>\n",
       "    <tr>\n",
       "      <th>4</th>\n",
       "      <td>Manhattan</td>\n",
       "      <td>Entire home/apt</td>\n",
       "      <td>40.76075</td>\n",
       "      <td>-73.99893</td>\n",
       "      <td>30</td>\n",
       "      <td>0</td>\n",
       "      <td>0.00</td>\n",
       "      <td>18</td>\n",
       "      <td>365</td>\n",
       "    </tr>\n",
       "  </tbody>\n",
       "</table>\n",
       "</div>"
      ],
      "text/plain": [
       "  neighbourhood_group        room_type  latitude  longitude  minimum_nights  \\\n",
       "0            Brooklyn     Private room  40.70239  -73.92931               1   \n",
       "1            Brooklyn  Entire home/apt  40.68498  -73.96618              14   \n",
       "2            Brooklyn  Entire home/apt  40.66911  -73.94824               3   \n",
       "3           Manhattan     Private room  40.79767  -73.96114               3   \n",
       "4           Manhattan  Entire home/apt  40.76075  -73.99893              30   \n",
       "\n",
       "   number_of_reviews  reviews_per_month  calculated_host_listings_count  \\\n",
       "0                 35               1.80                               1   \n",
       "1                  4               0.11                               2   \n",
       "2                153               2.64                               1   \n",
       "3                  2               0.02                               3   \n",
       "4                  0               0.00                              18   \n",
       "\n",
       "   availability_365  \n",
       "0                52  \n",
       "1               343  \n",
       "2               260  \n",
       "3                 0  \n",
       "4               365  "
      ]
     },
     "execution_count": 20,
     "metadata": {},
     "output_type": "execute_result"
    }
   ],
   "source": [
    "df_val.head()"
   ]
  },
  {
   "cell_type": "code",
   "execution_count": 21,
   "id": "c4600460",
   "metadata": {},
   "outputs": [
    {
     "data": {
      "text/html": [
       "<div>\n",
       "<style scoped>\n",
       "    .dataframe tbody tr th:only-of-type {\n",
       "        vertical-align: middle;\n",
       "    }\n",
       "\n",
       "    .dataframe tbody tr th {\n",
       "        vertical-align: top;\n",
       "    }\n",
       "\n",
       "    .dataframe thead th {\n",
       "        text-align: right;\n",
       "    }\n",
       "</style>\n",
       "<table border=\"1\" class=\"dataframe\">\n",
       "  <thead>\n",
       "    <tr style=\"text-align: right;\">\n",
       "      <th></th>\n",
       "      <th>neighbourhood_group</th>\n",
       "      <th>room_type</th>\n",
       "      <th>latitude</th>\n",
       "      <th>longitude</th>\n",
       "      <th>minimum_nights</th>\n",
       "      <th>number_of_reviews</th>\n",
       "      <th>reviews_per_month</th>\n",
       "      <th>calculated_host_listings_count</th>\n",
       "      <th>availability_365</th>\n",
       "    </tr>\n",
       "  </thead>\n",
       "  <tbody>\n",
       "    <tr>\n",
       "      <th>0</th>\n",
       "      <td>Brooklyn</td>\n",
       "      <td>Entire home/apt</td>\n",
       "      <td>40.64354</td>\n",
       "      <td>-73.97777</td>\n",
       "      <td>3</td>\n",
       "      <td>62</td>\n",
       "      <td>0.71</td>\n",
       "      <td>1</td>\n",
       "      <td>189</td>\n",
       "    </tr>\n",
       "    <tr>\n",
       "      <th>1</th>\n",
       "      <td>Queens</td>\n",
       "      <td>Private room</td>\n",
       "      <td>40.70666</td>\n",
       "      <td>-73.90779</td>\n",
       "      <td>21</td>\n",
       "      <td>0</td>\n",
       "      <td>0.00</td>\n",
       "      <td>1</td>\n",
       "      <td>73</td>\n",
       "    </tr>\n",
       "    <tr>\n",
       "      <th>2</th>\n",
       "      <td>Manhattan</td>\n",
       "      <td>Private room</td>\n",
       "      <td>40.76116</td>\n",
       "      <td>-73.99016</td>\n",
       "      <td>2</td>\n",
       "      <td>17</td>\n",
       "      <td>0.43</td>\n",
       "      <td>1</td>\n",
       "      <td>0</td>\n",
       "    </tr>\n",
       "    <tr>\n",
       "      <th>3</th>\n",
       "      <td>Manhattan</td>\n",
       "      <td>Entire home/apt</td>\n",
       "      <td>40.70763</td>\n",
       "      <td>-74.01050</td>\n",
       "      <td>2</td>\n",
       "      <td>5</td>\n",
       "      <td>1.88</td>\n",
       "      <td>327</td>\n",
       "      <td>272</td>\n",
       "    </tr>\n",
       "    <tr>\n",
       "      <th>4</th>\n",
       "      <td>Manhattan</td>\n",
       "      <td>Entire home/apt</td>\n",
       "      <td>40.79658</td>\n",
       "      <td>-73.93287</td>\n",
       "      <td>2</td>\n",
       "      <td>30</td>\n",
       "      <td>0.80</td>\n",
       "      <td>1</td>\n",
       "      <td>30</td>\n",
       "    </tr>\n",
       "  </tbody>\n",
       "</table>\n",
       "</div>"
      ],
      "text/plain": [
       "  neighbourhood_group        room_type  latitude  longitude  minimum_nights  \\\n",
       "0            Brooklyn  Entire home/apt  40.64354  -73.97777               3   \n",
       "1              Queens     Private room  40.70666  -73.90779              21   \n",
       "2           Manhattan     Private room  40.76116  -73.99016               2   \n",
       "3           Manhattan  Entire home/apt  40.70763  -74.01050               2   \n",
       "4           Manhattan  Entire home/apt  40.79658  -73.93287               2   \n",
       "\n",
       "   number_of_reviews  reviews_per_month  calculated_host_listings_count  \\\n",
       "0                 62               0.71                               1   \n",
       "1                  0               0.00                               1   \n",
       "2                 17               0.43                               1   \n",
       "3                  5               1.88                             327   \n",
       "4                 30               0.80                               1   \n",
       "\n",
       "   availability_365  \n",
       "0               189  \n",
       "1                73  \n",
       "2                 0  \n",
       "3               272  \n",
       "4                30  "
      ]
     },
     "execution_count": 21,
     "metadata": {},
     "output_type": "execute_result"
    }
   ],
   "source": [
    "df_test.head()"
   ]
  },
  {
   "cell_type": "code",
   "execution_count": 22,
   "id": "30e2b60f",
   "metadata": {},
   "outputs": [
    {
     "data": {
      "text/plain": [
       "((29337, 9), (9779, 9), (9779, 9), 29337, 9779, 9779)"
      ]
     },
     "execution_count": 22,
     "metadata": {},
     "output_type": "execute_result"
    }
   ],
   "source": [
    "df_train.shape , df_val.shape, df_test.shape, len(y_train), len(y_val), len(y_test)"
   ]
  },
  {
   "cell_type": "markdown",
   "id": "aede7432",
   "metadata": {},
   "source": [
    "## 3.4 EDA"
   ]
  },
  {
   "cell_type": "markdown",
   "id": "5ec79ac9",
   "metadata": {},
   "source": [
    "Check missing values\n",
    "Look at the target variable (price)\n",
    "Look at numerical and categorical variables"
   ]
  },
  {
   "cell_type": "code",
   "execution_count": 23,
   "id": "80ad95e2",
   "metadata": {},
   "outputs": [],
   "source": [
    "df_full_train = df_full_train.reset_index(drop=True)"
   ]
  },
  {
   "cell_type": "code",
   "execution_count": 24,
   "id": "f7b5390d",
   "metadata": {},
   "outputs": [
    {
     "data": {
      "text/plain": [
       "neighbourhood_group               0\n",
       "room_type                         0\n",
       "latitude                          0\n",
       "longitude                         0\n",
       "minimum_nights                    0\n",
       "number_of_reviews                 0\n",
       "reviews_per_month                 0\n",
       "calculated_host_listings_count    0\n",
       "availability_365                  0\n",
       "price                             0\n",
       "dtype: int64"
      ]
     },
     "execution_count": 24,
     "metadata": {},
     "output_type": "execute_result"
    }
   ],
   "source": [
    "df_full_train.isna().sum()"
   ]
  },
  {
   "cell_type": "code",
   "execution_count": 25,
   "id": "8c516b12",
   "metadata": {},
   "outputs": [
    {
     "data": {
      "text/plain": [
       "neighbourhood_group               0\n",
       "room_type                         0\n",
       "latitude                          0\n",
       "longitude                         0\n",
       "minimum_nights                    0\n",
       "number_of_reviews                 0\n",
       "reviews_per_month                 0\n",
       "calculated_host_listings_count    0\n",
       "availability_365                  0\n",
       "price                             0\n",
       "dtype: int64"
      ]
     },
     "execution_count": 25,
     "metadata": {},
     "output_type": "execute_result"
    }
   ],
   "source": [
    "df_full_train.isnull().sum()"
   ]
  },
  {
   "cell_type": "code",
   "execution_count": 26,
   "id": "e36b9bd2",
   "metadata": {},
   "outputs": [],
   "source": [
    "def find_correlation_matrix(data_frame, col_exclude):\n",
    "    df_temp = data_frame.copy()\n",
    "    matrix = df_temp.drop(col_exclude, axis=1).corr()\n",
    "    #print(matrix)\n",
    "    return matrix"
   ]
  },
  {
   "cell_type": "code",
   "execution_count": 27,
   "id": "56841c63",
   "metadata": {},
   "outputs": [
    {
     "name": "stdout",
     "output_type": "stream",
     "text": [
      "Correlation matrix is : \n"
     ]
    },
    {
     "data": {
      "text/html": [
       "<div>\n",
       "<style scoped>\n",
       "    .dataframe tbody tr th:only-of-type {\n",
       "        vertical-align: middle;\n",
       "    }\n",
       "\n",
       "    .dataframe tbody tr th {\n",
       "        vertical-align: top;\n",
       "    }\n",
       "\n",
       "    .dataframe thead th {\n",
       "        text-align: right;\n",
       "    }\n",
       "</style>\n",
       "<table border=\"1\" class=\"dataframe\">\n",
       "  <thead>\n",
       "    <tr style=\"text-align: right;\">\n",
       "      <th></th>\n",
       "      <th>latitude</th>\n",
       "      <th>longitude</th>\n",
       "      <th>minimum_nights</th>\n",
       "      <th>number_of_reviews</th>\n",
       "      <th>reviews_per_month</th>\n",
       "      <th>calculated_host_listings_count</th>\n",
       "      <th>availability_365</th>\n",
       "    </tr>\n",
       "  </thead>\n",
       "  <tbody>\n",
       "    <tr>\n",
       "      <th>latitude</th>\n",
       "      <td>1.000000</td>\n",
       "      <td>-0.034831</td>\n",
       "      <td>-0.126195</td>\n",
       "      <td>-0.317978</td>\n",
       "      <td>-0.323578</td>\n",
       "      <td>-0.163631</td>\n",
       "      <td>-0.375647</td>\n",
       "    </tr>\n",
       "    <tr>\n",
       "      <th>longitude</th>\n",
       "      <td>-0.034831</td>\n",
       "      <td>1.000000</td>\n",
       "      <td>-0.363418</td>\n",
       "      <td>-0.062530</td>\n",
       "      <td>0.045793</td>\n",
       "      <td>-0.476585</td>\n",
       "      <td>-0.178392</td>\n",
       "    </tr>\n",
       "    <tr>\n",
       "      <th>minimum_nights</th>\n",
       "      <td>-0.126195</td>\n",
       "      <td>-0.363418</td>\n",
       "      <td>1.000000</td>\n",
       "      <td>-0.480405</td>\n",
       "      <td>-0.557511</td>\n",
       "      <td>0.141933</td>\n",
       "      <td>0.010868</td>\n",
       "    </tr>\n",
       "    <tr>\n",
       "      <th>number_of_reviews</th>\n",
       "      <td>-0.317978</td>\n",
       "      <td>-0.062530</td>\n",
       "      <td>-0.480405</td>\n",
       "      <td>1.000000</td>\n",
       "      <td>0.822455</td>\n",
       "      <td>-0.439972</td>\n",
       "      <td>0.005475</td>\n",
       "    </tr>\n",
       "    <tr>\n",
       "      <th>reviews_per_month</th>\n",
       "      <td>-0.323578</td>\n",
       "      <td>0.045793</td>\n",
       "      <td>-0.557511</td>\n",
       "      <td>0.822455</td>\n",
       "      <td>1.000000</td>\n",
       "      <td>-0.428652</td>\n",
       "      <td>-0.018693</td>\n",
       "    </tr>\n",
       "    <tr>\n",
       "      <th>calculated_host_listings_count</th>\n",
       "      <td>-0.163631</td>\n",
       "      <td>-0.476585</td>\n",
       "      <td>0.141933</td>\n",
       "      <td>-0.439972</td>\n",
       "      <td>-0.428652</td>\n",
       "      <td>1.000000</td>\n",
       "      <td>0.186140</td>\n",
       "    </tr>\n",
       "    <tr>\n",
       "      <th>availability_365</th>\n",
       "      <td>-0.375647</td>\n",
       "      <td>-0.178392</td>\n",
       "      <td>0.010868</td>\n",
       "      <td>0.005475</td>\n",
       "      <td>-0.018693</td>\n",
       "      <td>0.186140</td>\n",
       "      <td>1.000000</td>\n",
       "    </tr>\n",
       "  </tbody>\n",
       "</table>\n",
       "</div>"
      ],
      "text/plain": [
       "                                latitude  longitude  minimum_nights  \\\n",
       "latitude                        1.000000  -0.034831       -0.126195   \n",
       "longitude                      -0.034831   1.000000       -0.363418   \n",
       "minimum_nights                 -0.126195  -0.363418        1.000000   \n",
       "number_of_reviews              -0.317978  -0.062530       -0.480405   \n",
       "reviews_per_month              -0.323578   0.045793       -0.557511   \n",
       "calculated_host_listings_count -0.163631  -0.476585        0.141933   \n",
       "availability_365               -0.375647  -0.178392        0.010868   \n",
       "\n",
       "                                number_of_reviews  reviews_per_month  \\\n",
       "latitude                                -0.317978          -0.323578   \n",
       "longitude                               -0.062530           0.045793   \n",
       "minimum_nights                          -0.480405          -0.557511   \n",
       "number_of_reviews                        1.000000           0.822455   \n",
       "reviews_per_month                        0.822455           1.000000   \n",
       "calculated_host_listings_count          -0.439972          -0.428652   \n",
       "availability_365                         0.005475          -0.018693   \n",
       "\n",
       "                                calculated_host_listings_count  \\\n",
       "latitude                                             -0.163631   \n",
       "longitude                                            -0.476585   \n",
       "minimum_nights                                        0.141933   \n",
       "number_of_reviews                                    -0.439972   \n",
       "reviews_per_month                                    -0.428652   \n",
       "calculated_host_listings_count                        1.000000   \n",
       "availability_365                                      0.186140   \n",
       "\n",
       "                                availability_365  \n",
       "latitude                               -0.375647  \n",
       "longitude                              -0.178392  \n",
       "minimum_nights                          0.010868  \n",
       "number_of_reviews                       0.005475  \n",
       "reviews_per_month                      -0.018693  \n",
       "calculated_host_listings_count          0.186140  \n",
       "availability_365                        1.000000  "
      ]
     },
     "execution_count": 27,
     "metadata": {},
     "output_type": "execute_result"
    }
   ],
   "source": [
    "col_exclude = ['neighbourhood_group', 'room_type', 'price']\n",
    "cor_matrix = find_correlation_matrix(df_full_train, col_exclude).corr()\n",
    "print(\"Correlation matrix is : \")\n",
    "cor_matrix                           "
   ]
  },
  {
   "cell_type": "markdown",
   "id": "d802b0e7",
   "metadata": {},
   "source": [
    "### <font color='Blue'>Question 2 -> Answer : Features with biggest correlation : number_of_reviews and reviews_per_month </font>"
   ]
  },
  {
   "cell_type": "markdown",
   "id": "ae959585",
   "metadata": {},
   "source": [
    "### Make price binary"
   ]
  },
  {
   "cell_type": "code",
   "execution_count": 108,
   "id": "22ce7b52",
   "metadata": {},
   "outputs": [],
   "source": [
    "def get_brnary_price(y_price, thresold=152):\n",
    "    y_price_bin = y_price.copy()\n",
    "    y_price_bin = pd.DataFrame(y_price_bin, columns = ['price'])\n",
    "    y_price_bin['price'] = y_price_bin.price.apply(lambda x: 1 if x >= thresold else 0)\n",
    "    y_price_bin = y_price_bin.price.values\n",
    "    return y_price_bin"
   ]
  },
  {
   "cell_type": "code",
   "execution_count": 109,
   "id": "a34341a4",
   "metadata": {},
   "outputs": [
    {
     "data": {
      "text/plain": [
       "array([0, 0, 0, ..., 1, 0, 0], dtype=int64)"
      ]
     },
     "execution_count": 109,
     "metadata": {},
     "output_type": "execute_result"
    }
   ],
   "source": [
    "y_train_bin = get_brnary_price(y_train, thresold=152)\n",
    "y_train_bin"
   ]
  },
  {
   "cell_type": "code",
   "execution_count": 110,
   "id": "84126ff5",
   "metadata": {},
   "outputs": [],
   "source": [
    "from sklearn.metrics import mutual_info_score"
   ]
  },
  {
   "cell_type": "code",
   "execution_count": 112,
   "id": "c1a64514",
   "metadata": {},
   "outputs": [
    {
     "data": {
      "text/plain": [
       "0.05"
      ]
     },
     "execution_count": 112,
     "metadata": {},
     "output_type": "execute_result"
    }
   ],
   "source": [
    "mi = mutual_info_score( df_train.neighbourhood_group, y_train_bin)\n",
    "round(mi,2)"
   ]
  },
  {
   "cell_type": "code",
   "execution_count": 113,
   "id": "48ae31d6",
   "metadata": {},
   "outputs": [
    {
     "data": {
      "text/plain": [
       "0.14"
      ]
     },
     "execution_count": 113,
     "metadata": {},
     "output_type": "execute_result"
    }
   ],
   "source": [
    "mi = mutual_info_score(df_train.room_type, y_train_bin)\n",
    "round(mi,2)"
   ]
  },
  {
   "cell_type": "markdown",
   "id": "1924679f",
   "metadata": {},
   "source": [
    "### <font color='Blue'>Question 3 -> Answer : highest mutual information score for  room_type </font>"
   ]
  },
  {
   "cell_type": "code",
   "execution_count": 166,
   "id": "3c91562f",
   "metadata": {},
   "outputs": [],
   "source": [
    "from sklearn.feature_extraction import DictVectorizer"
   ]
  },
  {
   "cell_type": "code",
   "execution_count": 167,
   "id": "45c1c459",
   "metadata": {},
   "outputs": [],
   "source": [
    "dv = DictVectorizer(sparse=False)\n",
    "\n",
    "train_dict = df_train[col_categorical + col_numerical].to_dict(orient='records')\n",
    "X_train = dv.fit_transform(train_dict)\n",
    "\n",
    "val_dict = df_val[col_categorical + col_numerical].to_dict(orient='records')\n",
    "X_val = dv.fit_transform(val_dict)"
   ]
  },
  {
   "cell_type": "code",
   "execution_count": 168,
   "id": "5beca38a",
   "metadata": {},
   "outputs": [
    {
     "data": {
      "text/plain": [
       "array([ 50.     ,  13.     ,  40.7276 , -73.94495,   3.     ,   0.     ,\n",
       "         1.     ,   0.     ,   0.     ,   0.     ,  29.     ,   0.7    ,\n",
       "         1.     ,   0.     ,   0.     ])"
      ]
     },
     "execution_count": 168,
     "metadata": {},
     "output_type": "execute_result"
    }
   ],
   "source": [
    "X_train[0]"
   ]
  },
  {
   "cell_type": "code",
   "execution_count": 169,
   "id": "5826b15f",
   "metadata": {},
   "outputs": [
    {
     "data": {
      "text/plain": [
       "['availability_365',\n",
       " 'calculated_host_listings_count',\n",
       " 'latitude',\n",
       " 'longitude',\n",
       " 'minimum_nights',\n",
       " 'neighbourhood_group=Bronx',\n",
       " 'neighbourhood_group=Brooklyn',\n",
       " 'neighbourhood_group=Manhattan',\n",
       " 'neighbourhood_group=Queens',\n",
       " 'neighbourhood_group=Staten Island',\n",
       " 'number_of_reviews',\n",
       " 'reviews_per_month',\n",
       " 'room_type=Entire home/apt',\n",
       " 'room_type=Private room',\n",
       " 'room_type=Shared room']"
      ]
     },
     "execution_count": 169,
     "metadata": {},
     "output_type": "execute_result"
    }
   ],
   "source": [
    "dv.get_feature_names()"
   ]
  },
  {
   "cell_type": "code",
   "execution_count": 170,
   "id": "3d33d97a",
   "metadata": {},
   "outputs": [],
   "source": [
    "from sklearn.linear_model import LogisticRegression\n",
    "from sklearn.metrics import accuracy_score"
   ]
  },
  {
   "cell_type": "code",
   "execution_count": 171,
   "id": "59b32a9c",
   "metadata": {},
   "outputs": [
    {
     "data": {
      "text/plain": [
       "(29337, 9779, 9779)"
      ]
     },
     "execution_count": 171,
     "metadata": {},
     "output_type": "execute_result"
    }
   ],
   "source": [
    "len(y_train) , len(y_val), len(y_test)"
   ]
  },
  {
   "cell_type": "code",
   "execution_count": 172,
   "id": "e292a3ae",
   "metadata": {},
   "outputs": [],
   "source": [
    "y_train_bin = get_brnary_price(y_train, thresold=152)\n",
    "y_val_bin = get_brnary_price(y_val, thresold=152)\n",
    "y_test_bin = get_brnary_price(y_test, thresold=152)"
   ]
  },
  {
   "cell_type": "code",
   "execution_count": 173,
   "id": "18becb3c",
   "metadata": {},
   "outputs": [
    {
     "data": {
      "text/plain": [
       "(29337, 9779, 9779)"
      ]
     },
     "execution_count": 173,
     "metadata": {},
     "output_type": "execute_result"
    }
   ],
   "source": [
    "len(y_train_bin) , len(y_val_bin), len(y_test_bin)"
   ]
  },
  {
   "cell_type": "code",
   "execution_count": 174,
   "id": "de16b093",
   "metadata": {},
   "outputs": [
    {
     "data": {
      "text/plain": [
       "LogisticRegression(random_state=42, solver='liblinear')"
      ]
     },
     "execution_count": 174,
     "metadata": {},
     "output_type": "execute_result"
    }
   ],
   "source": [
    "model = LogisticRegression(solver='liblinear', C=1.0, random_state=42)\n",
    "model.fit(X_train, y_train_bin)"
   ]
  },
  {
   "cell_type": "code",
   "execution_count": 175,
   "id": "a0ab6902",
   "metadata": {},
   "outputs": [
    {
     "data": {
      "text/plain": [
       "array([0, 1, 0, ..., 0, 0, 1], dtype=int64)"
      ]
     },
     "execution_count": 175,
     "metadata": {},
     "output_type": "execute_result"
    }
   ],
   "source": [
    "y_val_bin_pred = model.predict(X_val)\n",
    "y_val_bin_pred"
   ]
  },
  {
   "cell_type": "code",
   "execution_count": 177,
   "id": "dcbb26c1",
   "metadata": {},
   "outputs": [
    {
     "name": "stdout",
     "output_type": "stream",
     "text": [
      "0.7907761529808774\n"
     ]
    }
   ],
   "source": [
    "score = model.score(X_val, y_val_bin)\n",
    "score = round(score,2)\n",
    "print(score)"
   ]
  },
  {
   "cell_type": "markdown",
   "id": "b394734c",
   "metadata": {},
   "source": [
    "### <font color='Blue'>Question 4 -> Answer : accuracy on the validation dataset : 0.79 </font>"
   ]
  },
  {
   "cell_type": "code",
   "execution_count": 156,
   "id": "72a555c5",
   "metadata": {},
   "outputs": [],
   "source": [
    "def apply_one_hot_encoding(df_data,  columns):\n",
    "    df_data_cp = df_data.copy()\n",
    "    dv = DictVectorizer(sparse=False)\n",
    "\n",
    "    df_data_dict = df_data_cp[columns].to_dict(orient='records')\n",
    "    X_data = dv.fit_transform(df_data_dict)\n",
    "    \n",
    "    return X_data"
   ]
  },
  {
   "cell_type": "code",
   "execution_count": 163,
   "id": "52d58088",
   "metadata": {},
   "outputs": [],
   "source": [
    "def model_build_log_reg(X_train_data,y_train_bin_data, X_val_data, y_val_bin_data):\n",
    "    \n",
    "    model = LogisticRegression(solver='liblinear', C=1.0, random_state=42)\n",
    "    model.fit(X_train_data, y_train_bin_data)  \n",
    "    \n",
    "    y_val_bin_pred = model.predict(X_val_data)\n",
    "    sub_score = model.score(X_val_data, y_val_bin_data)\n",
    "    #sub_score = round(sub_score,2)\n",
    "    return sub_score"
   ]
  },
  {
   "cell_type": "code",
   "execution_count": 164,
   "id": "f4bb6c81",
   "metadata": {},
   "outputs": [],
   "source": [
    "#X_train = apply_one_hot_encoding(df_train,col_categorical + col_numerical)"
   ]
  },
  {
   "cell_type": "code",
   "execution_count": 225,
   "id": "121b7e1c",
   "metadata": {},
   "outputs": [],
   "source": [
    "acc_score = []\n",
    "all_columns =  col_categorical + col_numerical\n",
    "\n",
    "# Get accuracy score for all columns\n",
    "X_train = apply_one_hot_encoding(df_train, all_columns) \n",
    "X_val = apply_one_hot_encoding(df_val, all_columns)\n",
    "score = model_build_log_reg(X_train,y_train_bin, X_val, y_val_bin)\n",
    "\n",
    "\n",
    "for column in all_columns:\n",
    "    sub_columns = all_columns.copy()\n",
    "    sub_columns.remove(column)\n",
    "    #print(sub_columns)\n",
    "    X_train_data = apply_one_hot_encoding(df_train, sub_columns) \n",
    "    X_val_data = apply_one_hot_encoding(df_val, sub_columns)\n",
    "    sub_score = model_create_fit_predict_score(X_train_data,y_train_bin, X_val_data, y_val_bin)\n",
    "    acc_score.append(sub_score)\n",
    "#print(all_columns)"
   ]
  },
  {
   "cell_type": "code",
   "execution_count": 183,
   "id": "ac84f73c",
   "metadata": {},
   "outputs": [
    {
     "name": "stdout",
     "output_type": "stream",
     "text": [
      "[0.7498721750690255, 0.7289088863892014, 0.7867880151344718, 0.7869925350240311, 0.7914919725943348, 0.7911851927599959, 0.7907761529808774, 0.7895490336435218, 0.781470498005931]\n"
     ]
    }
   ],
   "source": [
    "print(acc_score)"
   ]
  },
  {
   "cell_type": "code",
   "execution_count": 209,
   "id": "7eac35e6",
   "metadata": {},
   "outputs": [
    {
     "data": {
      "text/html": [
       "<div>\n",
       "<style scoped>\n",
       "    .dataframe tbody tr th:only-of-type {\n",
       "        vertical-align: middle;\n",
       "    }\n",
       "\n",
       "    .dataframe tbody tr th {\n",
       "        vertical-align: top;\n",
       "    }\n",
       "\n",
       "    .dataframe thead th {\n",
       "        text-align: right;\n",
       "    }\n",
       "</style>\n",
       "<table border=\"1\" class=\"dataframe\">\n",
       "  <thead>\n",
       "    <tr style=\"text-align: right;\">\n",
       "      <th></th>\n",
       "      <th>scores</th>\n",
       "      <th>Diff</th>\n",
       "      <th>Abs_Diff</th>\n",
       "    </tr>\n",
       "  </thead>\n",
       "  <tbody>\n",
       "    <tr>\n",
       "      <th>neighbourhood_group</th>\n",
       "      <td>0.749872</td>\n",
       "      <td>0.040904</td>\n",
       "      <td>0.040904</td>\n",
       "    </tr>\n",
       "    <tr>\n",
       "      <th>room_type</th>\n",
       "      <td>0.728909</td>\n",
       "      <td>0.061867</td>\n",
       "      <td>0.061867</td>\n",
       "    </tr>\n",
       "    <tr>\n",
       "      <th>latitude</th>\n",
       "      <td>0.786788</td>\n",
       "      <td>0.003988</td>\n",
       "      <td>0.003988</td>\n",
       "    </tr>\n",
       "    <tr>\n",
       "      <th>longitude</th>\n",
       "      <td>0.786993</td>\n",
       "      <td>0.003784</td>\n",
       "      <td>0.003784</td>\n",
       "    </tr>\n",
       "    <tr>\n",
       "      <th>minimum_nights</th>\n",
       "      <td>0.791492</td>\n",
       "      <td>-0.000716</td>\n",
       "      <td>0.000716</td>\n",
       "    </tr>\n",
       "    <tr>\n",
       "      <th>number_of_reviews</th>\n",
       "      <td>0.791185</td>\n",
       "      <td>-0.000409</td>\n",
       "      <td>0.000409</td>\n",
       "    </tr>\n",
       "    <tr>\n",
       "      <th>reviews_per_month</th>\n",
       "      <td>0.790776</td>\n",
       "      <td>0.000000</td>\n",
       "      <td>0.000000</td>\n",
       "    </tr>\n",
       "    <tr>\n",
       "      <th>calculated_host_listings_count</th>\n",
       "      <td>0.789549</td>\n",
       "      <td>0.001227</td>\n",
       "      <td>0.001227</td>\n",
       "    </tr>\n",
       "    <tr>\n",
       "      <th>availability_365</th>\n",
       "      <td>0.781470</td>\n",
       "      <td>0.009306</td>\n",
       "      <td>0.009306</td>\n",
       "    </tr>\n",
       "  </tbody>\n",
       "</table>\n",
       "</div>"
      ],
      "text/plain": [
       "                                  scores      Diff  Abs_Diff\n",
       "neighbourhood_group             0.749872  0.040904  0.040904\n",
       "room_type                       0.728909  0.061867  0.061867\n",
       "latitude                        0.786788  0.003988  0.003988\n",
       "longitude                       0.786993  0.003784  0.003784\n",
       "minimum_nights                  0.791492 -0.000716  0.000716\n",
       "number_of_reviews               0.791185 -0.000409  0.000409\n",
       "reviews_per_month               0.790776  0.000000  0.000000\n",
       "calculated_host_listings_count  0.789549  0.001227  0.001227\n",
       "availability_365                0.781470  0.009306  0.009306"
      ]
     },
     "execution_count": 209,
     "metadata": {},
     "output_type": "execute_result"
    }
   ],
   "source": [
    "df_scores = pd.DataFrame(acc_score, all_columns )\n",
    "df_scores.columns = ['scores']\n",
    "df_scores['Diff'] = score - df_scores['scores']\n",
    "df_scores['Abs_Diff'] = abs(df_scores['Diff'] )\n",
    "df_scores"
   ]
  },
  {
   "cell_type": "code",
   "execution_count": 214,
   "id": "f0c83943",
   "metadata": {},
   "outputs": [
    {
     "data": {
      "text/plain": [
       "0.0"
      ]
     },
     "execution_count": 214,
     "metadata": {},
     "output_type": "execute_result"
    }
   ],
   "source": [
    "df_scores['Abs_Diff'].min()"
   ]
  },
  {
   "cell_type": "code",
   "execution_count": 215,
   "id": "6b0a8162",
   "metadata": {},
   "outputs": [
    {
     "data": {
      "text/plain": [
       "Abs_Diff    reviews_per_month\n",
       "dtype: object"
      ]
     },
     "execution_count": 215,
     "metadata": {},
     "output_type": "execute_result"
    }
   ],
   "source": [
    "df_scores[['Abs_Diff']].idxmin()"
   ]
  },
  {
   "cell_type": "markdown",
   "id": "4130b8a7",
   "metadata": {},
   "source": [
    "### <font color='Blue'>Question 5 -> Answer : feature has the smallest difference : reviews_per_month </font>"
   ]
  },
  {
   "cell_type": "code",
   "execution_count": null,
   "id": "51b8dfc2",
   "metadata": {},
   "outputs": [],
   "source": []
  },
  {
   "cell_type": "code",
   "execution_count": 285,
   "id": "41cb33b7",
   "metadata": {},
   "outputs": [],
   "source": [
    "from sklearn.linear_model import Ridge\n",
    "from sklearn.metrics import mean_squared_error "
   ]
  },
  {
   "cell_type": "code",
   "execution_count": 289,
   "id": "221d52e6",
   "metadata": {},
   "outputs": [],
   "source": [
    "def model_build_lin_reg(X_train_data,y_train_data, X_val_data, y_val_data, alpha=1.0):\n",
    "    \n",
    "    model = Ridge(alpha)\n",
    "    model.fit(X_train_data, y_train_data)  \n",
    "    \n",
    "    y_val_pred = model.predict(X_val_data)\n",
    "    sub_score = model.score(X_val_data, y_val_data)\n",
    "    rmse = mean_squared_error(y_val_data, y_val_pred, squared=False)\n",
    "\n",
    "    return sub_score, rmse"
   ]
  },
  {
   "cell_type": "code",
   "execution_count": 290,
   "id": "d59cd424",
   "metadata": {},
   "outputs": [],
   "source": [
    "X_train = apply_one_hot_encoding(df_train, all_columns) \n",
    "X_val = apply_one_hot_encoding(df_val, all_columns)\n",
    "\n",
    "y_train_log = np.log1p(y_train)\n",
    "y_val_log = np.log1p(y_val)"
   ]
  },
  {
   "cell_type": "code",
   "execution_count": 291,
   "id": "a48d18e4",
   "metadata": {},
   "outputs": [
    {
     "name": "stdout",
     "output_type": "stream",
     "text": [
      "alpha : 0   , rsme : 0.4972204402832728,  round rsme : 0.497\n",
      "alpha : 0.01   , rsme : 0.49711730461906295,  round rsme : 0.497\n",
      "alpha : 0.1   , rsme : 0.49711832446943977,  round rsme : 0.497\n",
      "alpha : 1   , rsme : 0.4971395363320048,  round rsme : 0.497\n",
      "alpha : 10   , rsme : 0.49788660158765563,  round rsme : 0.498\n"
     ]
    }
   ],
   "source": [
    "for alpha in [0, 0.01, 0.1, 1, 10]:\n",
    "    score,rsme = model_build_lin_reg(X_train,y_train_log, X_val, y_val_log,alpha)\n",
    "    print(\"alpha : {}   , rsme : {},  round rsme : {}\" .format( alpha ,    rsme, round(rsme,3)))\n"
   ]
  },
  {
   "cell_type": "markdown",
   "id": "eda3b9c4",
   "metadata": {},
   "source": [
    "### <font color='Blue'> Question 6 -> Answer : Which of these alphas leads to the best RMSE on the validation set : 0.01 </font>"
   ]
  },
  {
   "cell_type": "code",
   "execution_count": 270,
   "id": "93fec499",
   "metadata": {},
   "outputs": [
    {
     "data": {
      "text/plain": [
       "(array([4.60517019, 4.06044301, 4.26267988, ..., 5.70378247, 4.18965474,\n",
       "        4.53259949]),\n",
       " array([4.18965474, 4.49980967, 5.30330491, ..., 3.68887945, 4.26267988,\n",
       "        4.35670883]))"
      ]
     },
     "execution_count": 270,
     "metadata": {},
     "output_type": "execute_result"
    }
   ],
   "source": [
    "y_train_log , y_val_log"
   ]
  },
  {
   "cell_type": "code",
   "execution_count": null,
   "id": "c722a77a",
   "metadata": {},
   "outputs": [],
   "source": []
  }
 ],
 "metadata": {
  "kernelspec": {
   "display_name": "Python 3",
   "language": "python",
   "name": "python3"
  },
  "language_info": {
   "codemirror_mode": {
    "name": "ipython",
    "version": 3
   },
   "file_extension": ".py",
   "mimetype": "text/x-python",
   "name": "python",
   "nbconvert_exporter": "python",
   "pygments_lexer": "ipython3",
   "version": "3.8.10"
  }
 },
 "nbformat": 4,
 "nbformat_minor": 5
}
